{
 "cells": [
  {
   "cell_type": "markdown",
   "id": "cc7944bc-d7c4-49fe-8e28-4c08c9bbffd1",
   "metadata": {},
   "source": [
    "# Data Science Tools and Ecosystem"
   ]
  },
  {
   "cell_type": "markdown",
   "id": "e89cbff9-52b4-4549-a2a6-03b549927760",
   "metadata": {},
   "source": [
    "In this notebook, Data Science Tools and Ecosystem are summarized."
   ]
  },
  {
   "cell_type": "markdown",
   "id": "4babbae2-704e-4dff-ae26-ee07d8456aaa",
   "metadata": {},
   "source": [
    "**Objectives:**\n",
    "- Create a Jupyter Notebook with markdown and code cells\n",
    "- List examples of languages, libraries and tools used in Data Science\n",
    "- Share your Jupyter Notebook publicly on GitHub\n",
    "- Evaluate notebooks submitted by your peers using the provided rubric\n",
    "- Demonstrate proficiency in Data Science toolkit knowledge"
   ]
  },
  {
   "cell_type": "markdown",
   "id": "f5e6cb74-8efe-4a50-ba6c-a298e6fd76fb",
   "metadata": {},
   "source": [
    "Some of the popular languages that Data Scientists use are:\n",
    "1. Python\n",
    "2. R\n",
    "3. C++\n",
    "4. C\n",
    "5. Java"
   ]
  },
  {
   "cell_type": "markdown",
   "id": "534a8c64-0c0a-4445-995e-9ebf62008815",
   "metadata": {},
   "source": [
    "Some of the commonly used libraries used by Data Scientists include:\n",
    "1. pandas\n",
    "2. numpy\n",
    "3. matplotlib\n",
    "4. plotly\n",
    "5. ggplot2"
   ]
  },
  {
   "cell_type": "markdown",
   "id": "ef24c5e6-077c-4388-8ec3-50d693d7564e",
   "metadata": {},
   "source": [
    "| Data Scient Tools |\n",
    "| ----------------- |\n",
    "| Jupyter Notebook  |\n",
    "| RStudio           |\n",
    "| Watson Studio     |"
   ]
  },
  {
   "cell_type": "markdown",
   "id": "46ff926b-a0af-4b3e-86ba-edf0bebe01de",
   "metadata": {},
   "source": [
    "### Below are a few examples of evaluating arithmetic expressions in Python"
   ]
  },
  {
   "cell_type": "code",
   "execution_count": 12,
   "id": "9fc6534f-1d74-4330-918f-4645c4842e13",
   "metadata": {},
   "outputs": [
    {
     "data": {
      "text/plain": [
       "17"
      ]
     },
     "execution_count": 12,
     "metadata": {},
     "output_type": "execute_result"
    }
   ],
   "source": [
    "# This a simple arithmetic expression to mutiply then add integers\n",
    "(3*4)+5"
   ]
  },
  {
   "cell_type": "code",
   "execution_count": 14,
   "id": "1165c2df-744c-4b01-a163-fffce3989ecd",
   "metadata": {},
   "outputs": [
    {
     "data": {
      "text/plain": [
       "3.3333333333333335"
      ]
     },
     "execution_count": 14,
     "metadata": {},
     "output_type": "execute_result"
    }
   ],
   "source": [
    "# This will convert 200 minutes to hours by diving by 60\n",
    "200 / 60"
   ]
  },
  {
   "cell_type": "markdown",
   "id": "1840cec4-d4bb-48ff-ad68-6730d9c44199",
   "metadata": {},
   "source": [
    "## Author\n",
    "Khuong Nguyen"
   ]
  },
  {
   "cell_type": "code",
   "execution_count": null,
   "id": "778bbbe0-54b1-4e94-b36c-30ad1f85b7ed",
   "metadata": {},
   "outputs": [],
   "source": []
  }
 ],
 "metadata": {
  "kernelspec": {
   "display_name": "Python 3 (ipykernel)",
   "language": "python",
   "name": "python3"
  },
  "language_info": {
   "codemirror_mode": {
    "name": "ipython",
    "version": 3
   },
   "file_extension": ".py",
   "mimetype": "text/x-python",
   "name": "python",
   "nbconvert_exporter": "python",
   "pygments_lexer": "ipython3",
   "version": "3.12.7"
  }
 },
 "nbformat": 4,
 "nbformat_minor": 5
}
